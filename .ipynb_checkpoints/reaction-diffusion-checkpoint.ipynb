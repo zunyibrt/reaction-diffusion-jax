{
 "cells": [
  {
   "cell_type": "code",
   "execution_count": 2,
   "id": "2246fd5f-371e-4876-ba2d-3f014a47e764",
   "metadata": {},
   "outputs": [],
   "source": [
    "import jax\n",
    "jax.config.update(\"jax_enable_x64\", True)   # turn this on to use double precision JAX\n",
    "import jax.numpy as jnp\n",
    "from jax import jit\n",
    "import jax.random as jr\n",
    "from jax.experimental import sparse\n",
    "import time\n",
    "import numpy as np\n",
    "import matplotlib.pyplot as plt\n",
    "import cmasher as cmr"
   ]
  },
  {
   "cell_type": "code",
   "execution_count": 9,
   "id": "773aeaf1-12ab-4248-8776-4632e9b6f6a3",
   "metadata": {},
   "outputs": [],
   "source": [
    "# Simulation parameters\n",
    "N           = 1024\n",
    "Nt          = 64000\n",
    "# Du, Dv, F, K = 0.14, 0.06, 0.035, 0.065 # bacteria\n",
    "# Du, Dv, F, K = 0.16, 0.08, 0.060, 0.062  # coral\n",
    "# Du, Dv, F, K = 0.12, 0.08, 0.020, 0.050 # spirals\n",
    "Du, Dv, F, K = 0.16, 0.08, 0.035, 0.060 # zebra fish\n",
    "\n",
    "seed       = 5678\n",
    "N2, r = int(N/2), 64\n",
    "key = jr.PRNGKey(seed)\n",
    "u_key, v_key = jr.split(key, 2)"
   ]
  },
  {
   "cell_type": "code",
   "execution_count": 10,
   "id": "99ced567-73db-4185-82b3-9316e997cecc",
   "metadata": {},
   "outputs": [],
   "source": [
    "@jit\n",
    "def laplacian():\n",
    "    main_diag = -4*jnp.ones(N**2)\n",
    "    od1 = jnp.ones(N**2-1).at[N-1::N].set(0) \n",
    "    od2 = jnp.ones(N**2-1).at[N-1::N].set(0) \n",
    "    od3 = jnp.ones(N**2-N)\n",
    "    od4 = jnp.ones(N**2-N)\n",
    "    \n",
    "    rows,  cols  = jnp.diag_indices(N**2)\n",
    "    idx  = jnp.column_stack((rows, cols))\n",
    "    idx1 = jnp.column_stack((rows.at[:-1].get(), cols.at[1:].get()))\n",
    "    idx2 = jnp.column_stack((rows.at[1:].get(), cols.at[:-1].get()))\n",
    "    idx3 = jnp.column_stack((rows.at[:-N].get(), cols.at[N:].get()))\n",
    "    idx4 = jnp.column_stack((rows.at[N:].get(), cols.at[:-N].get()))\n",
    "    \n",
    "    data = jnp.concatenate([main_diag,od1,od2,od3,od4])\n",
    "    idxs = jnp.concatenate([idx,idx1,idx2,idx3,idx4])\n",
    "    \n",
    "    return sparse.BCOO((data, idxs), shape=(N**2, N**2))"
   ]
  },
  {
   "cell_type": "code",
   "execution_count": 11,
   "id": "2b99f180-17b3-4ae3-b67b-cba3e1abdb30",
   "metadata": {},
   "outputs": [],
   "source": [
    "@jit\n",
    "def update_sim(t,vals):\n",
    "    u,v,L = vals\n",
    "    uvv = u*v*v\n",
    "    u += (Du*jnp.dot(L,u) - uvv +  F *(1-u))\n",
    "    v += (Dv*jnp.dot(L,v) + uvv - (F+K)*v  )\n",
    "    return u,v,L\n",
    "update_sim_sp = sparse.sparsify(update_sim)"
   ]
  },
  {
   "cell_type": "code",
   "execution_count": 12,
   "id": "899e52c4-feab-4dfb-8cf8-3068c426f734",
   "metadata": {},
   "outputs": [],
   "source": [
    "@jit\n",
    "def do_simulation(u, v):   \n",
    "    L = laplacian()\n",
    "    u, v, L = jax.lax.fori_loop(0, Nt, update_sim_sp, init_val=(u,v,L))    \n",
    "    return u, v"
   ]
  },
  {
   "cell_type": "code",
   "execution_count": null,
   "id": "6b616b72-eb7f-456d-87e2-4853099fa7b2",
   "metadata": {},
   "outputs": [],
   "source": [
    "# Initialize\n",
    "u = jnp.ones((N, N),dtype=jnp.float64)\n",
    "v = jnp.zeros((N, N),dtype=jnp.float64)\n",
    "u += 0.02*jr.uniform(u_key,(N,N))\n",
    "v += 0.02*jr.uniform(v_key,(N,N))\n",
    "u = u.at[N2-r:N2+r, N2-r:N2+r].set(0.50)\n",
    "v = v.at[N2-r:N2+r, N2-r:N2+r].set(0.25)\n",
    "u = u.reshape((N**2))\n",
    "v = v.reshape((N**2))\n",
    "\n",
    "start = time.time()\n",
    "u,v = do_simulation(u, v)\n",
    "end = time.time()\n",
    "print(f\"Computation time: {end - start}\")"
   ]
  },
  {
   "cell_type": "code",
   "execution_count": null,
   "id": "9c00355f-4076-45da-bca6-472eb3134a01",
   "metadata": {},
   "outputs": [],
   "source": [
    "f = plt.figure(figsize=(3,3), dpi=400, frameon=False)\n",
    "ax = plt.Axes(f, [0., 0., 1., 1.])\n",
    "ax.set_axis_off()\n",
    "f.add_axes(ax)\n",
    "ax.pcolor(u.reshape((N, N)), cmap=cmr.iceburn)\n",
    "# plt.savefig('plots_diffusion/zebrafish_A.png',dpi=400)\n",
    "plt.show()\n",
    "\n",
    "f = plt.figure(figsize=(3,3), dpi=400, frameon=False)\n",
    "ax = plt.Axes(f, [0., 0., 1., 1.])\n",
    "ax.set_axis_off()\n",
    "f.add_axes(ax)\n",
    "ax.pcolor(v.reshape((N, N)), cmap=cmr.seaweed)\n",
    "# f.savefig('plots_diffusion/zebrafish_B.png',dpi=400)\n",
    "plt.show()"
   ]
  },
  {
   "cell_type": "code",
   "execution_count": null,
   "id": "aaf67e42-3488-4646-af2c-8083506341a3",
   "metadata": {},
   "outputs": [],
   "source": []
  },
  {
   "cell_type": "code",
   "execution_count": null,
   "id": "5768b05d-bb03-489e-a728-482478a05521",
   "metadata": {},
   "outputs": [],
   "source": []
  }
 ],
 "metadata": {
  "kernelspec": {
   "display_name": "diffrax",
   "language": "python",
   "name": "diffrax"
  },
  "language_info": {
   "codemirror_mode": {
    "name": "ipython",
    "version": 3
   },
   "file_extension": ".py",
   "mimetype": "text/x-python",
   "name": "python",
   "nbconvert_exporter": "python",
   "pygments_lexer": "ipython3",
   "version": "3.10.13"
  }
 },
 "nbformat": 4,
 "nbformat_minor": 5
}
